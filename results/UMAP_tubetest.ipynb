{
 "cells": [
  {
   "cell_type": "code",
   "execution_count": 1,
   "metadata": {},
   "outputs": [
    {
     "ename": "ModuleNotFoundError",
     "evalue": "No module named 'umap'",
     "output_type": "error",
     "traceback": [
      "\u001b[1;31m---------------------------------------------------------------------------\u001b[0m",
      "\u001b[1;31mModuleNotFoundError\u001b[0m                       Traceback (most recent call last)",
      "\u001b[1;32mc:\\Users\\megha\\Documents\\GitHub\\pose_tracking_repo\\results\\UMAPS\\UMAP_tubetest.ipynb Cell 1\u001b[0m in \u001b[0;36m<cell line: 5>\u001b[1;34m()\u001b[0m\n\u001b[0;32m      <a href='vscode-notebook-cell:/c%3A/Users/megha/Documents/GitHub/pose_tracking_repo/results/UMAPS/UMAP_tubetest.ipynb#W0sZmlsZQ%3D%3D?line=2'>3</a>\u001b[0m \u001b[39mfrom\u001b[39;00m \u001b[39mscipy\u001b[39;00m\u001b[39m.\u001b[39;00m\u001b[39mstats\u001b[39;00m \u001b[39mimport\u001b[39;00m linregress\n\u001b[0;32m      <a href='vscode-notebook-cell:/c%3A/Users/megha/Documents/GitHub/pose_tracking_repo/results/UMAPS/UMAP_tubetest.ipynb#W0sZmlsZQ%3D%3D?line=3'>4</a>\u001b[0m \u001b[39mfrom\u001b[39;00m \u001b[39mscipy\u001b[39;00m\u001b[39m.\u001b[39;00m\u001b[39moptimize\u001b[39;00m \u001b[39mimport\u001b[39;00m curve_fit\n\u001b[1;32m----> <a href='vscode-notebook-cell:/c%3A/Users/megha/Documents/GitHub/pose_tracking_repo/results/UMAPS/UMAP_tubetest.ipynb#W0sZmlsZQ%3D%3D?line=4'>5</a>\u001b[0m \u001b[39mimport\u001b[39;00m \u001b[39mumap\u001b[39;00m\n\u001b[0;32m      <a href='vscode-notebook-cell:/c%3A/Users/megha/Documents/GitHub/pose_tracking_repo/results/UMAPS/UMAP_tubetest.ipynb#W0sZmlsZQ%3D%3D?line=7'>8</a>\u001b[0m np\u001b[39m.\u001b[39mset_printoptions(threshold\u001b[39m=\u001b[39mnp\u001b[39m.\u001b[39minf)\n\u001b[0;32m     <a href='vscode-notebook-cell:/c%3A/Users/megha/Documents/GitHub/pose_tracking_repo/results/UMAPS/UMAP_tubetest.ipynb#W0sZmlsZQ%3D%3D?line=9'>10</a>\u001b[0m filenames \u001b[39m=\u001b[39m[\n\u001b[0;32m     <a href='vscode-notebook-cell:/c%3A/Users/megha/Documents/GitHub/pose_tracking_repo/results/UMAPS/UMAP_tubetest.ipynb#W0sZmlsZQ%3D%3D?line=10'>11</a>\u001b[0m \u001b[39m\"\u001b[39m\u001b[39m./C1_R1v2_ID1v2.mp4.predictions.000_C1_R1v2_ID1v2.analysis_fixed.h5\u001b[39m\u001b[39m\"\u001b[39m,\n\u001b[0;32m     <a href='vscode-notebook-cell:/c%3A/Users/megha/Documents/GitHub/pose_tracking_repo/results/UMAPS/UMAP_tubetest.ipynb#W0sZmlsZQ%3D%3D?line=11'>12</a>\u001b[0m \u001b[39m\"\u001b[39m\u001b[39m./C1_R1v4_ID1v3.mp4.predictions.000_C1_R1v4_ID1v3.analysis_fixed.h5\u001b[39m\u001b[39m\"\u001b[39m,\n\u001b[1;32m   (...)\u001b[0m\n\u001b[0;32m     <a href='vscode-notebook-cell:/c%3A/Users/megha/Documents/GitHub/pose_tracking_repo/results/UMAPS/UMAP_tubetest.ipynb#W0sZmlsZQ%3D%3D?line=21'>22</a>\u001b[0m \u001b[39m\"\u001b[39m\u001b[39m./C6_R4v1_ID4v1.mp4.predictions.000_C6_R4v1_ID4v1.analysis_fixed.h5\u001b[39m\u001b[39m\"\u001b[39m\n\u001b[0;32m     <a href='vscode-notebook-cell:/c%3A/Users/megha/Documents/GitHub/pose_tracking_repo/results/UMAPS/UMAP_tubetest.ipynb#W0sZmlsZQ%3D%3D?line=22'>23</a>\u001b[0m ]\n",
      "\u001b[1;31mModuleNotFoundError\u001b[0m: No module named 'umap'"
     ]
    }
   ],
   "source": [
    "import h5py\n",
    "import numpy as np\n",
    "from scipy.stats import linregress\n",
    "from scipy.optimize import curve_fit\n",
    "import umap\n",
    "\n",
    "\n",
    "np.set_printoptions(threshold=np.inf)\n",
    "\n",
    "filenames =[\n",
    "\"./C1_R1v2_ID1v2.mp4.predictions.000_C1_R1v2_ID1v2.analysis_fixed.h5\",\n",
    "\"./C1_R1v4_ID1v3.mp4.predictions.000_C1_R1v4_ID1v3.analysis_fixed.h5\",\n",
    "\"./C2_R1v2_ID1v3.mp4.predictions.000_C2_R1v2_ID1v3.analysis_fixed.h5\",\n",
    "\"./C2_R4v1_ID4v1.mp4.predictions.000_C2_R4v1_ID4v1.analysis_fixed.h5\",\n",
    "\"./C3_R2v1_ID3v4.mp4.predictions.000_C3_R2v1_ID3v4.analysis_fixed.h5\",\n",
    "\"./C3_R1v4_ID4v1.mp4.predictions.000_C3_R1v4_ID4v1.analysis_fixed.h5\",\n",
    "'./C4_R2v1_ID3v2.mp4.predictions.000_C4_R2v1_ID3v2.analysis_fixed.h5',\n",
    "\"./C4_R1v4_ID2v4.mp4.predictions.000_C4_R1v4_ID2v4.analysis_fixed.h5\",\n",
    "\"./C5_R2v1_ID2v4.mp4.predictions.000_C5_R2v1_ID2v4.analysis_fixed.h5\",\n",
    "\"./C5_R4v1_ID3v4.mp4.predictions.000_C5_R4v1_ID3v4.analysis_fixed.h5\",\n",
    "\"./C6_R1v2_ID1v3.mp4.predictions.slp.000_C6_R1v2_ID1v3.analysis_fixed.h5\",\n",
    "\"./C6_R4v1_ID4v1.mp4.predictions.000_C6_R4v1_ID4v1.analysis_fixed.h5\"\n",
    "]\n",
    "\n",
    "\n",
    "def get_info(filename):\n",
    "    with h5py.File(filename, \"r\") as f:\n",
    "        dset_names = list(f.keys())\n",
    "        locations= f[\"tracks\"][:].T\n",
    "        node_names= [n.decode() for n in f[\"node_names\"][:]]\n",
    "        track_names= [n.decode() for n in f[\"track_names\"][:]]\n",
    "\n",
    "        MOUSE_YELLOW_PAGES = dict()\n",
    "\n",
    "        for i, name in enumerate(track_names):\n",
    "        # it is how you find their number, get it?\n",
    "        # index to ID, eg: '2.4' -> 0\n",
    "            MOUSE_YELLOW_PAGES[name] = i\n",
    "\n",
    "        rank_dict = {}\n",
    "        print(filename)\n",
    "        for i in range(len(filename)):\n",
    "            if filename[i] == 'R':\n",
    "                rank1 = filename[i+1]\n",
    "                rank2 = filename[i+3] \n",
    "            if filename[i] =='D':\n",
    "                m1 = filename[3] + '.' + filename[i+1]\n",
    "                m2 = filename[3] + '.' +filename[i+3]\n",
    "                rank_dict[rank1] = m1\n",
    "                rank_dict[rank2] = m2\n",
    "        return (dset_names, locations, node_names, track_names, rank_dict, MOUSE_YELLOW_PAGES)"
   ]
  }
 ],
 "metadata": {
  "kernelspec": {
   "display_name": "Python 3.9.12 ('base')",
   "language": "python",
   "name": "python3"
  },
  "language_info": {
   "codemirror_mode": {
    "name": "ipython",
    "version": 3
   },
   "file_extension": ".py",
   "mimetype": "text/x-python",
   "name": "python",
   "nbconvert_exporter": "python",
   "pygments_lexer": "ipython3",
   "version": "3.9.12"
  },
  "orig_nbformat": 4,
  "vscode": {
   "interpreter": {
    "hash": "2a2bb13428c0fa5528a782c90fb93cdb3c6451f334ceed53df357b0b2c268996"
   }
  }
 },
 "nbformat": 4,
 "nbformat_minor": 2
}
