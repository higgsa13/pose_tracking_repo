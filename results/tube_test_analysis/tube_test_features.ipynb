{
 "cells": [
  {
   "cell_type": "code",
   "execution_count": null,
   "metadata": {},
   "outputs": [],
   "source": [
    "import h5py\n",
    "import numpy as np\n",
    "import math"
   ]
  },
  {
   "cell_type": "code",
   "execution_count": null,
   "metadata": {},
   "outputs": [],
   "source": [
    "filenames =[\n",
    "\"./C1_R1v2_ID1v2.mp4.predictions.000_C1_R1v2_ID1v2.analysis_fixed.h5\",\n",
    "\"./C1_R1v4_ID1v3.mp4.predictions.000_C1_R1v4_ID1v3.analysis_fixed.h5\",\n",
    "\"./C2_R1v2_ID1v3.mp4.predictions.000_C2_R1v2_ID1v3.analysis_fixed.h5\",\n",
    "\"./C2_R4v1_ID4v1.mp4.predictions.000_C2_R4v1_ID4v1.analysis_fixed.h5\",\n",
    "\"./C3_R2v1_ID3v4.mp4.predictions.000_C3_R2v1_ID3v4.analysis_fixed.h5\",\n",
    "\"./C3_R1v4_ID4v1.mp4.predictions.000_C3_R1v4_ID4v1.analysis_fixed.h5\",\n",
    "'./C4_R2v1_ID3v2.mp4.predictions.000_C4_R2v1_ID3v2.analysis_fixed.h5',\n",
    "\"./C4_R1v4_ID2v4.mp4.predictions.000_C4_R1v4_ID2v4.analysis_fixed.h5\",\n",
    "\"./C5_R2v1_ID2v4.mp4.predictions.000_C5_R2v1_ID2v4.analysis_fixed.h5\",\n",
    "\"./C5_R4v1_ID3v4.mp4.predictions.000_C5_R4v1_ID3v4.analysis_fixed.h5\",\n",
    "\"./C6_R1v2_ID1v3.mp4.predictions.slp.000_C6_R1v2_ID1v3.analysis_fixed.h5\",\n",
    "\"./C6_R4v1_ID4v1.mp4.predictions.000_C6_R4v1_ID4v1.analysis_fixed.h5\"\n",
    "]\n",
    "\n",
    "def get_info(filename):\n",
    "    with h5py.File(filename, \"r\") as f:\n",
    "        dset_names = list(f.keys())\n",
    "        locations = f[\"tracks\"][:].T\n",
    "        node_names = [n.decode() for n in f[\"node_names\"][:]]\n",
    "    return dset_names, locations, node_names"
   ]
  },
  {
   "cell_type": "code",
   "execution_count": null,
   "metadata": {},
   "outputs": [],
   "source": [
    "from scipy.interpolate import interp1d\n",
    "\n",
    "def fill_missing(Y, kind=\"linear\"):\n",
    "    \"\"\"Fills missing values independently along each dimension after the first.\"\"\"\n",
    "\n",
    "    # Store initial shape.\n",
    "    initial_shape = Y.shape\n",
    "\n",
    "    # Flatten after first dim.\n",
    "    Y = Y.reshape((initial_shape[0], -1))\n",
    "\n",
    "    # Interpolate along each slice.\n",
    "    for i in range(Y.shape[-1]):\n",
    "        y = Y[:, i]\n",
    "\n",
    "        # Build interpolant.\n",
    "        x = np.flatnonzero(~np.isnan(y))\n",
    "        f = interp1d(x, y[x], kind=kind, fill_value=np.nan, bounds_error=False)\n",
    "\n",
    "        # Fill missing\n",
    "        xq = np.flatnonzero(np.isnan(y))\n",
    "        y[xq] = f(xq)\n",
    "        \n",
    "        # Fill leading or trailing NaNs with the nearest non-NaN values\n",
    "        mask = np.isnan(y)\n",
    "        y[mask] = np.interp(np.flatnonzero(mask), np.flatnonzero(~mask), y[~mask])\n",
    "\n",
    "        # Save slice\n",
    "        Y[:, i] = y\n",
    "\n",
    "    # Restore to initial shape.\n",
    "    Y = Y.reshape(initial_shape)\n",
    "\n",
    "    return Y"
   ]
  },
  {
   "cell_type": "code",
   "execution_count": null,
   "metadata": {},
   "outputs": [],
   "source": [
    "from scipy.signal import savgol_filter\n",
    "\n",
    "def smooth_diff(node_loc, win=25, poly=3):\n",
    "    \"\"\"\n",
    "    node_loc is a [frames, 2] array\n",
    "    \n",
    "    win defines the window to smooth over\n",
    "    \n",
    "    poly defines the order of the polynomial\n",
    "    to fit with\n",
    "    \n",
    "    \"\"\"\n",
    "    node_loc_vel = np.zeros_like(node_loc)\n",
    "    \n",
    "    for c in range(node_loc.shape[-1]):\n",
    "        node_loc_vel[:, c] = savgol_filter(node_loc[:, c], win, poly, deriv=1)\n",
    "    \n",
    "    node_vel = np.linalg.norm(node_loc_vel,axis=1)\n",
    "\n",
    "    return node_vel"
   ]
  },
  {
   "cell_type": "code",
   "execution_count": null,
   "metadata": {},
   "outputs": [],
   "source": []
  },
  {
   "cell_type": "code",
   "execution_count": null,
   "metadata": {},
   "outputs": [
    {
     "data": {
      "text/plain": [
       "['ear', 'nose', 'tail_base', 'thorax', 'front_foot', 'rear_foot']"
      ]
     },
     "execution_count": 38,
     "metadata": {},
     "output_type": "execute_result"
    }
   ],
   "source": [
    "node_names"
   ]
  },
  {
   "cell_type": "code",
   "execution_count": null,
   "metadata": {},
   "outputs": [],
   "source": [
    "locations = fill_missing(locations)"
   ]
  },
  {
   "cell_type": "code",
   "execution_count": null,
   "metadata": {},
   "outputs": [
    {
     "name": "stdout",
     "output_type": "stream",
     "text": [
      "(1213, 6, 2, 2)\n"
     ]
    }
   ],
   "source": [
    "print(locations.shape)"
   ]
  },
  {
   "cell_type": "code",
   "execution_count": null,
   "metadata": {},
   "outputs": [
    {
     "data": {
      "text/plain": [
       "1213"
      ]
     },
     "execution_count": 118,
     "metadata": {},
     "output_type": "execute_result"
    }
   ],
   "source": [
    "len(locations)"
   ]
  },
  {
   "cell_type": "code",
   "execution_count": null,
   "metadata": {},
   "outputs": [],
   "source": []
  },
  {
   "cell_type": "code",
   "execution_count": null,
   "metadata": {},
   "outputs": [],
   "source": [
    "def get_distances_between_mice(locations, node_index):\n",
    "    #confirmed does what i want it to\n",
    "    \"\"\"\n",
    "    takes in locations and node index \n",
    "    returns a list of distances between the nodes of the two mice\n",
    "    \"\"\"\n",
    "    c_list = []\n",
    "    for i in range(len(locations)):\n",
    "    \n",
    "        (x1,y1) = (locations[i,node_index,0,0], locations[i,node_index,1,0])\n",
    "        # x , y coordinate of nose for mouse 1\n",
    "        (x2, y2) = (locations[i,node_index,0,1], locations[i,node_index,1,1])\n",
    "        # x and y coordinate of nose of mouse 2\n",
    "        # solve for c using pythagroean theory\n",
    "        a2 = (x1 - x2) ** 2 \n",
    "        b2 = (y1 - y2) ** 2 \n",
    "        c = math.sqrt(a2 + b2)\n",
    "        c_list.append(c)\n",
    "    return c_list\n",
    "\n"
   ]
  },
  {
   "cell_type": "code",
   "execution_count": null,
   "metadata": {},
   "outputs": [],
   "source": [
    "thorax_distances = get_distances_between_mice(locations,1)\n"
   ]
  },
  {
   "cell_type": "code",
   "execution_count": null,
   "metadata": {},
   "outputs": [],
   "source": [
    "def get_distances_between_nodes(locations, node_index1, node_index2):\n",
    "    # CONFIRMED THAT IT WORKS in terms of doing the math by hand\n",
    "    \"\"\"\n",
    "    takes in locations and node indexes of the two body parts you want \n",
    "    within mice distances for \n",
    "\n",
    "    returns nested lists, list[0] is the distances within track1\n",
    "    list[1] is the distances within track2\n",
    "\n",
    "    \"\"\"\n",
    "    c_list = []\n",
    "    m1_c_list = []\n",
    "    m2_c_list = []\n",
    "    for i in range(len(locations)):\n",
    "        x1,y1 = locations[i, node_index1,0,0], locations[i,node_index1,1,0]\n",
    "        # x , y coordinate of node 1 for mouse 1\n",
    "        x2,y2 = locations[i,node_index2,0,0], locations[i,node_index2,1,0]\n",
    "        # x, y coordiantes of node 2 for mouse 1\n",
    "        x3, y3 = locations[i,node_index1,0,1], locations[i,node_index1,1,1]\n",
    "        # x and y coordinate of node 1 of mouse 2\n",
    "        x4, y4 = locations[i,node_index2,0,1], locations[i,node_index2,1,1]\n",
    "        # solve for c using pythagroean theory\n",
    "        a2 = (x1 - x2) ** 2 \n",
    "        b2 = (y1 - y2) ** 2\n",
    "        a2_m2 = (x3 -x4) ** 2\n",
    "        b2_m2 = (y3 - y4) ** 2 \n",
    "        c2 = math.sqrt(a2_m2 + b2_m2)\n",
    "        c1 = math.sqrt(a2 + b2)\n",
    "        m1_c_list.append(c1)\n",
    "        m2_c_list.append(c2)\n",
    "    c_list.append(m1_c_list)\n",
    "    c_list.append(m2_c_list)\n",
    "    return c_list"
   ]
  },
  {
   "cell_type": "code",
   "execution_count": null,
   "metadata": {},
   "outputs": [
    {
     "name": "stdout",
     "output_type": "stream",
     "text": [
      "1213\n"
     ]
    }
   ],
   "source": [
    "ose_to_thorax_distance = get_distances_between_nodes(locations, 1, 4)\n",
    "print(len(ose_to_thorax_distance[1]))\n"
   ]
  },
  {
   "cell_type": "code",
   "execution_count": null,
   "metadata": {},
   "outputs": [],
   "source": [
    "def get_velocities(locations, node_index):\n",
    "\n",
    "    node_loc_1 = locations[:,node_index,:,0]\n",
    "    # node loc (x,y) of node of mouse 1\n",
    "    node_loc_2 = locations[:,node_index,:,1]\n",
    "    # x,y's of node of mouse 2 \n",
    "    m1_vel = smooth_diff(node_loc_1)\n",
    "    m2_vel = smooth_diff(node_loc_2)\n",
    "    velocities = [m1_vel,m2_vel]\n",
    "    return velocities "
   ]
  },
  {
   "cell_type": "code",
   "execution_count": null,
   "metadata": {},
   "outputs": [
    {
     "name": "stdout",
     "output_type": "stream",
     "text": [
      "1213\n"
     ]
    }
   ],
   "source": [
    "velocities = get_velocities(locations, 1)\n",
    "print(len(velocities[1]))"
   ]
  },
  {
   "cell_type": "code",
   "execution_count": null,
   "metadata": {},
   "outputs": [],
   "source": [
    "def get_angles(locations, node_index_1, node_index_2, node_index_3):\n",
    "    \"\"\"\n",
    "    takes in locations and three nodes, calculates angle between the three points \n",
    "    with the second node being the center point\n",
    "    i.e. node_1 = nose , node_2 = ear , node_3 = thorax\n",
    "    returns [[list of angles for mouse 1][list of angles for mouse 2]]\n",
    "    \"\"\"\n",
    "    angles_all_mice = []\n",
    "    frame, nodes, axes, mice = locations.shape\n",
    "    \n",
    "        \n",
    "    for mouse in range(mice):\n",
    "        angles = []\n",
    "        for i in range(len(locations)):\n",
    "            a = np.array([locations[i,node_index_1,0,mouse], locations[i,node_index_1, 1, mouse]])\n",
    "            b = np.array([locations[i,node_index_2,0,mouse], locations[i,node_index_2, 1, mouse]])\n",
    "            c = np.array([locations[i,node_index_3,0,mouse], locations[i,node_index_3, 1, mouse]])\n",
    "            ang = math.degrees(math.atan2(c[1]-b[1], c[0]-b[0]) - math.atan2(a[1]-b[1], a[0]-b[0]))\n",
    "            if ang < 0:\n",
    "                angles.append(ang + 360)\n",
    "            else: \n",
    "                angles.append(ang)\n",
    "        angles_all_mice.append(angles)\n",
    "    return angles_all_mice\n",
    "\n",
    "\n"
   ]
  },
  {
   "cell_type": "code",
   "execution_count": null,
   "metadata": {},
   "outputs": [
    {
     "name": "stdout",
     "output_type": "stream",
     "text": [
      "1213\n"
     ]
    }
   ],
   "source": [
    "angles = get_angles(locations, 0, 1, 4)\n",
    "print(len(angles[1]))"
   ]
  },
  {
   "cell_type": "code",
   "execution_count": null,
   "metadata": {},
   "outputs": [
    {
     "name": "stdout",
     "output_type": "stream",
     "text": [
      "2.0\n"
     ]
    }
   ],
   "source": [
    "test = np.zeros((2,2))\n",
    "test[0] = [1,2]\n",
    "print(test[0][1])"
   ]
  },
  {
   "cell_type": "code",
   "execution_count": null,
   "metadata": {},
   "outputs": [
    {
     "name": "stdout",
     "output_type": "stream",
     "text": [
      "(9, 1213)\n",
      "(9, 206)\n",
      "(9, 775)\n",
      "(9, 144)\n",
      "(9, 773)\n",
      "(9, 277)\n",
      "(9, 407)\n",
      "(9, 59)\n",
      "(9, 415)\n",
      "(9, 57)\n",
      "(9, 479)\n",
      "(9, 92)\n"
     ]
    }
   ],
   "source": [
    "\n",
    "\n",
    "is_first = True\n",
    "for filename in filenames: \n",
    "    dset_names, locations, node_names = get_info(filename)\n",
    "    features = np.zeros((9,len(locations)))\n",
    "    locations = fill_missing(locations)\n",
    "    angles = get_angles(locations, 0, 1, 3)\n",
    "    features[0] = angles[0]\n",
    "    features[1] = angles[1]\n",
    "    nose_velocities = get_velocities(locations, 1)\n",
    "    features[2] = nose_velocities[0]\n",
    "    features[3] = nose_velocities[1]\n",
    "    thorax_velocities = get_velocities(locations,3)\n",
    "    features[4] = thorax_velocities[0]\n",
    "    features[5] = thorax_velocities[1]\n",
    "    features[6] = get_distances_between_mice(locations, 1)\n",
    "    nose_tailbase = get_distances_between_nodes(locations, 1,2)\n",
    "    features[7] = nose_tailbase[0]\n",
    "    features[8] = nose_tailbase[1]\n",
    "    print(features.shape)\n",
    "    if is_first:\n",
    "        features_total = features\n",
    "        is_first = False\n",
    "    else:\n",
    "        features_total = np.concatenate((features_total, features),1)\n",
    "\n",
    "features_total = np.swapaxes(features_total,0,1)\n"
   ]
  },
  {
   "cell_type": "markdown",
   "metadata": {},
   "source": []
  },
  {
   "cell_type": "code",
   "execution_count": null,
   "metadata": {},
   "outputs": [
    {
     "data": {
      "text/plain": [
       "(4897, 9)"
      ]
     },
     "execution_count": 191,
     "metadata": {},
     "output_type": "execute_result"
    }
   ],
   "source": [
    "features_total.shape"
   ]
  },
  {
   "cell_type": "code",
   "execution_count": null,
   "metadata": {},
   "outputs": [],
   "source": [
    "from sklearn.datasets import load_digits\n",
    "from sklearn.model_selection import train_test_split\n",
    "from sklearn.preprocessing import StandardScaler\n",
    "from sklearn.datasets import fetch_openml\n",
    "from sklearn.decomposition import PCA\n",
    "from sklearn.metrics import adjusted_rand_score, adjusted_mutual_info_score\n",
    "\n",
    "from scipy.stats import linregress\n",
    "from scipy.optimize import curve_fit"
   ]
  },
  {
   "cell_type": "code",
   "execution_count": null,
   "metadata": {},
   "outputs": [],
   "source": [
    "\n",
    "import os\n",
    "import umap\n",
    "import hdbscan\n",
    "import matplotlib.pyplot as plt\n",
    "import seaborn as sns\n",
    "import pandas as pd\n",
    "import pickle\n",
    "import sklearn.cluster as cluster"
   ]
  },
  {
   "cell_type": "code",
   "execution_count": null,
   "metadata": {},
   "outputs": [],
   "source": [
    "reducer = umap.UMAP()\n",
    "# dimenionality reduction part of UMAP ( uniform manifold approximation & projection )\n",
    "\n",
    "standard_embedding = reducer.fit_transform(features_total)\n"
   ]
  },
  {
   "cell_type": "code",
   "execution_count": null,
   "metadata": {},
   "outputs": [
    {
     "data": {
      "text/plain": [
       "(4897, 2)"
      ]
     },
     "execution_count": 205,
     "metadata": {},
     "output_type": "execute_result"
    }
   ],
   "source": [
    "clusterable_embedding = umap.UMAP(\n",
    "    n_neighbors= 18,\n",
    "    min_dist=0.0,\n",
    "    n_components=2,\n",
    "    random_state=42,\n",
    ").fit_transform(features_total)\n",
    "\n",
    "clusterable_embedding.shape"
   ]
  },
  {
   "cell_type": "code",
   "execution_count": null,
   "metadata": {},
   "outputs": [
    {
     "data": {
      "text/plain": [
       "<matplotlib.collections.PathCollection at 0x2444c82eac0>"
      ]
     },
     "execution_count": 206,
     "metadata": {},
     "output_type": "execute_result"
    },
    {
     "data": {
      "image/png": "[encoded data removed]",
      "text/plain": [
       "<Figure size 640x480 with 1 Axes>"
      ]
     },
     "metadata": {},
     "output_type": "display_data"
    }
   ],
   "source": [
    "plt.scatter(standard_embedding[:, 0], standard_embedding[:, 1], s=0.1,)"
   ]
  },
  {
   "cell_type": "code",
   "execution_count": null,
   "metadata": {},
   "outputs": [
    {
     "data": {
      "text/plain": [
       "<matplotlib.collections.PathCollection at 0x2444c877880>"
      ]
     },
     "execution_count": 207,
     "metadata": {},
     "output_type": "execute_result"
    },
    {
     "data": {
      "image/png": "[encoded data removed]",
      "text/plain": [
       "<Figure size 640x480 with 1 Axes>"
      ]
     },
     "metadata": {},
     "output_type": "display_data"
    }
   ],
   "source": [
    "plt.scatter(clusterable_embedding[:, 0], clusterable_embedding[:, 1], s=0.1)"
   ]
  },
  {
   "cell_type": "code",
   "execution_count": null,
   "metadata": {},
   "outputs": [
    {
     "name": "stdout",
     "output_type": "stream",
     "text": [
      "1\n",
      "1\n",
      "2\n",
      "[-1  0  1  2]\n",
      "<class 'numpy.ndarray'>\n",
      "4897\n"
     ]
    }
   ],
   "source": [
    "hdbscan_labels = hdbscan.HDBSCAN(min_samples=10, min_cluster_size=500).fit_predict(clusterable_embedding)\n",
    "print(hdbscan_labels[4896])\n",
    "print(hdbscan_labels[3])\n",
    "print(hdbscan_labels[560])\n",
    "\n",
    "\n",
    "print(np.unique(hdbscan_labels))\n",
    "print(type(hdbscan_labels))\n",
    "print(len(hdbscan_labels))"
   ]
  },
  {
   "cell_type": "code",
   "execution_count": null,
   "metadata": {},
   "outputs": [
    {
     "data": {
      "image/png": "[encoded data removed]",
      "text/plain": [
       "<Figure size 640x480 with 1 Axes>"
      ]
     },
     "metadata": {},
     "output_type": "display_data"
    }
   ],
   "source": [
    "clustered = (hdbscan_labels >= 0)\n",
    "fig, ax = plt.subplots()\n",
    "\n",
    "# plt.scatter(standard_embedding[~clustered, 0],\n",
    "#             standard_embedding[~clustered, 1],\n",
    "#             color=(0.5, 0.5, 0.5),\n",
    "#             s=0.1,\n",
    "#             alpha=0.5)\n",
    "scatter = plt.scatter(standard_embedding[clustered, 0],\n",
    "            standard_embedding[clustered, 1],\n",
    "            c=hdbscan_labels[clustered],\n",
    "            s=0.1,\n",
    "            cmap='Spectral')\n",
    "\n",
    "plt.legend(*scatter.legend_elements(),  title=\"Classes\")\n",
    "plt.savefig('./feature_clusters.png')\n",
    "plt.show()\n"
   ]
  },
  {
   "cell_type": "code",
   "execution_count": null,
   "metadata": {},
   "outputs": [],
   "source": [
    "from moviepy.editor import *\n",
    "final_vid = VideoFileClip(\"final_final.mp4\")\n",
    "n_frames = final_vid.reader.nframes"
   ]
  },
  {
   "cell_type": "code",
   "execution_count": null,
   "metadata": {},
   "outputs": [
    {
     "name": "stdout",
     "output_type": "stream",
     "text": [
      "[1 1 1 ... 1 1 1]\n"
     ]
    }
   ],
   "source": [
    "def cluster_dic(labels):\n",
    "    \"\"\"\n",
    "    takes in a list of labels (hdbscan labels)\n",
    "    and returns a dictionary {cluster:[list of frames]}\n",
    "    \"\"\"\n",
    "    clusters = {}\n",
    "    print(labels)\n",
    "    # if a cluster key already exists in the dictionary, append its value (list) with the new frame (i)\n",
    "    for i in range(len(labels)):\n",
    "        if labels[i] in clusters:\n",
    "            temp_val = clusters[labels[i]]\n",
    "            temp_val.append(i)\n",
    "            clusters[labels[i]] = temp_val\n",
    "        #if the cluser does not have a unique key yet, create one, who \n",
    "        else:\n",
    "            clusters[labels[i]] = [i]\n",
    "    return clusters\n",
    "\n",
    "cluster_dict = cluster_dic(hdbscan_labels)"
   ]
  },
  {
   "cell_type": "code",
   "execution_count": null,
   "metadata": {},
   "outputs": [
    {
     "name": "stdout",
     "output_type": "stream",
     "text": [
      "Moviepy - Building video cluster1.mp4.\n",
      "Moviepy - Writing video cluster1.mp4\n",
      "\n"
     ]
    },
    {
     "name": "stderr",
     "output_type": "stream",
     "text": [
      "                                                                \r"
     ]
    },
    {
     "name": "stdout",
     "output_type": "stream",
     "text": [
      "Moviepy - Done !\n",
      "Moviepy - video ready cluster1.mp4\n"
     ]
    }
   ],
   "source": [
    "import moviepy.editor as mpy\n",
    "\n",
    "def make_clip(list_of_frames, video):\n",
    "    frames = []\n",
    "    for frame in list_of_frames:\n",
    "        frames.append(video.get_frame(frame/30))\n",
    "\n",
    "    clip = mpy.ImageSequenceClip(frames, fps=30)\n",
    "    return clip\n",
    "\n",
    "small_example = cluster_dict[1]\n",
    "cluster_2 = cluster_dict[0]\n",
    "cluster_3 = cluster_dict[2]\n",
    "cluster_1 = make_clip(small_example, final_vid)\n",
    "cluster_1.write_videofile('cluster1.mp4')\n",
    "cluster_2_vid = make_clip(cluster_2, final_vid)\n",
    "cluster_3_vid = make_clip(cluster_3, final_vid)\n",
    "cluster_2_vid.write_videofile('cluster2.mp4')\n",
    "cluster_3_vid.write_videofile('cluster3.mp4')\n"
   ]
  },
  {
   "cell_type": "code",
   "execution_count": null,
   "metadata": {},
   "outputs": [],
   "source": []
  }
 ],
 "metadata": {
  "kernelspec": {
   "display_name": "Python 3",
   "language": "python",
   "name": "python3"
  },
  "language_info": {
   "codemirror_mode": {
    "name": "ipython",
    "version": 3
   },
   "file_extension": ".py",
   "mimetype": "text/x-python",
   "name": "python",
   "nbconvert_exporter": "python",
   "pygments_lexer": "ipython3",
   "version": "3.9.16 (main, Jan 11 2023, 16:16:36) [MSC v.1916 64 bit (AMD64)]"
  },
  "orig_nbformat": 4,
  "vscode": {
   "interpreter": {
    "hash": "1573656c7f731dc702bb689cd1e2a81d228b5f27bb3e8e6f4a5a8d57b663b5ae"
   }
  }
 },
 "nbformat": 4,
 "nbformat_minor": 2
}
